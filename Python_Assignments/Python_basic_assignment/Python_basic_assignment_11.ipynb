{
 "cells": [
  {
   "cell_type": "markdown",
   "metadata": {},
   "source": [
    "## 1. Create an assert statement that throws an AssertionError if the variable spam is a negative integer.\n",
    "\n",
    "Ans:  spam=int(input())  <br>\n",
    "assert spam<0, \"error\""
   ]
  },
  {
   "cell_type": "markdown",
   "metadata": {},
   "source": [
    "## 2. Write an assert statement that triggers an AssertionError if the variables eggs and bacon contain strings that are the same as each other, even if their cases are different (that is, 'hello' and 'hello' are considered the same, and 'goodbye' and 'GOODbye' are also considered the same).\n",
    "\n",
    "Ans:  assert eggs.lower() != bacon.lower(), 'The eggs and bacon variables are the same!' or assert eggs.upper() != bacon.upper(), 'The eggs and bacon variables are the same"
   ]
  },
  {
   "cell_type": "markdown",
   "metadata": {},
   "source": [
    "## 3. Create an assert statement that throws an AssertionError every time.\n",
    "\n",
    "Ans :  while True: <br>\n",
    "    a=1 <br>\n",
    "    assert a<0,\"error\" <br>\n"
   ]
  },
  {
   "cell_type": "markdown",
   "metadata": {},
   "source": [
    "## 4. What are the two lines that must be present in your software in order to call logging.debug()?\n",
    "\n",
    "Ans:  import logging <br>\n",
    "logging.basicConfig(levels=logging.DEBUG,format=' %(asctime)s -\n",
    "%(levelname)s - %(message)s')<br>"
   ]
  },
  {
   "cell_type": "markdown",
   "metadata": {},
   "source": [
    "## 5. What are the two lines that your program must have in order to have logging.debug() send a logging message to a file named programLog.txt?\n",
    "\n",
    "Ans: import logging <br>\n",
    "logging.basicConfig(filename='programLog.txt',level=logging.DEBUG, format=' %(asctime)s -\n",
    "%(levelname)s - %(message)s')"
   ]
  },
  {
   "cell_type": "markdown",
   "metadata": {},
   "source": [
    "## 6. What are the five levels of logging?\n",
    "\n",
    "Ans: following are five levels of logging: <br>\n",
    "1.DEBUG <br>\n",
    "2. Info <br>\n",
    "3. warning <br>\n",
    "4.error <br>\n",
    "5. critical <br>"
   ]
  },
  {
   "cell_type": "markdown",
   "metadata": {},
   "source": [
    "## 7. What line of code would you add to your software to disable all logging messages?\n",
    "\n",
    "Ans: logging.disbale() will be added"
   ]
  },
  {
   "cell_type": "markdown",
   "metadata": {},
   "source": [
    "## 8.Why is using logging messages better than using print() to display the same message?\n",
    "\n",
    "Ans: logging keeps tracks of all the activities which our program is performing whuch helps in deeper analysis of error which print is not capable of doing. Also, if there is any error, then print will stop the execution of program . Also, with help of logging, we can disbale or enable logging whenever we waant."
   ]
  },
  {
   "cell_type": "markdown",
   "metadata": {},
   "source": [
    "## 9. What are the differences between the Step Over, Step In, and Step Out buttons in the debugger?\n",
    "\n",
    "Ans: The Step button will move the debugger into a function call. The Over button will quickly execute the function call without stepping into it. The Out button will quickly execute the rest of the code until it steps out of the function it currently is in."
   ]
  },
  {
   "cell_type": "markdown",
   "metadata": {},
   "source": [
    "## 10.After you click Continue, when will the debugger stop ?\n",
    "\n",
    "Ans . No, it will not stop"
   ]
  },
  {
   "cell_type": "markdown",
   "metadata": {},
   "source": [
    "## 11. What is the concept of a breakpoint?\n",
    "\n",
    "Ans: breakpoints are like stopping point where program execution will pause and after our interruption , it will again start executing."
   ]
  },
  {
   "cell_type": "code",
   "execution_count": null,
   "metadata": {},
   "outputs": [],
   "source": []
  }
 ],
 "metadata": {
  "kernelspec": {
   "display_name": "Python 3",
   "language": "python",
   "name": "python3"
  },
  "language_info": {
   "codemirror_mode": {
    "name": "ipython",
    "version": 3
   },
   "file_extension": ".py",
   "mimetype": "text/x-python",
   "name": "python",
   "nbconvert_exporter": "python",
   "pygments_lexer": "ipython3",
   "version": "3.7.4"
  }
 },
 "nbformat": 4,
 "nbformat_minor": 4
}
