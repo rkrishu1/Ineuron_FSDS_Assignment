{
 "cells": [
  {
   "cell_type": "markdown",
   "metadata": {},
   "source": [
    "## 1. What exactly is []?\n",
    "Ans:\n",
    "[] -- it is used to represent as a list..values inside this will be considered as list"
   ]
  },
  {
   "cell_type": "markdown",
   "metadata": {},
   "source": [
    "## 2. In a list of values stored in a variable called spam, how would you assign the value 'hello' as the third value? (Assume [2, 4, 6, 8, 10] are in spam.)\n",
    "\n",
    "Ans:\n",
    "spam[2]='hello"
   ]
  },
  {
   "cell_type": "markdown",
   "metadata": {},
   "source": [
    "Let's pretend the spam includes the list ['a', 'b', 'c', 'd'] for the next three queries."
   ]
  },
  {
   "cell_type": "markdown",
   "metadata": {},
   "source": [
    "## 3. What is the value of spam[int(int('3' * 2) / 11)]?\n",
    "\n",
    "ANs:\n",
    "spam[3] which is 8 will be printed"
   ]
  },
  {
   "cell_type": "markdown",
   "metadata": {},
   "source": [
    "## 4. What is the value of spam[-1]?\n",
    "Ans:\n",
    "d\n"
   ]
  },
  {
   "cell_type": "markdown",
   "metadata": {},
   "source": [
    "## 5. What is the value of spam[:2]?\n",
    "\n",
    "Ans:\n",
    "a and b will be the output"
   ]
  },
  {
   "cell_type": "markdown",
   "metadata": {},
   "source": [
    "Let's pretend bacon has the list [3.14, 'cat,' 11, 'cat,' True] for the next three questions.\n"
   ]
  },
  {
   "cell_type": "markdown",
   "metadata": {},
   "source": [
    "## 6. What is the value of bacon.index('cat')?\n",
    "\n",
    "Ans :1\n"
   ]
  },
  {
   "cell_type": "markdown",
   "metadata": {},
   "source": [
    "## 7. How does bacon.append(99) change the look of the list value in bacon?\n",
    "\n",
    "Ans:\n",
    "99 will be added at the end of the list\n",
    "[3.14, 'cat', 11, 'cat', True, 99]"
   ]
  },
  {
   "cell_type": "markdown",
   "metadata": {},
   "source": [
    "## 8. How does bacon.remove('cat') change the look of the list in bacon?\n",
    "\n",
    "Ans:\n",
    "cat will be removed from list\n",
    "[3.14, 11, True, 99]"
   ]
  },
  {
   "cell_type": "markdown",
   "metadata": {},
   "source": [
    "## 9. What are the list concatenation and list replication operators?\n",
    "\n",
    "Ans:\n",
    "list concatenation  operator is +\n",
    "list replication is *"
   ]
  },
  {
   "cell_type": "markdown",
   "metadata": {},
   "source": [
    "## 10. What is difference between the list methods append() and insert()?\n",
    "\n",
    "Ans:\n",
    "append add data at the end of list by default, but we have to specify where we \n",
    "want to add value in case of insert\n"
   ]
  },
  {
   "cell_type": "markdown",
   "metadata": {},
   "source": [
    "## 11. What are the two methods for removing items from a list?\n",
    "\n",
    "Ans:\n",
    "pop and remove are used to remove item from a list"
   ]
  },
  {
   "cell_type": "markdown",
   "metadata": {},
   "source": [
    "## 12. Describe how list values and string values are identical.\n",
    "\n",
    "Ans:\n",
    "list values are called elements while string values are called characters"
   ]
  },
  {
   "cell_type": "markdown",
   "metadata": {},
   "source": [
    "## 13. What's the difference between tuples and lists?\n",
    "\n",
    "Ans:\n",
    "list is mutable means we can change value in list while tuples are immutable means values can't be changed in tuple after it is declared"
   ]
  },
  {
   "cell_type": "markdown",
   "metadata": {},
   "source": [
    "## 14. How do you type a tuple value that only contains the integer 42?\n",
    "\n",
    "Ans:\n",
    "tuple('42')"
   ]
  },
  {
   "cell_type": "markdown",
   "metadata": {},
   "source": [
    "## 15. How do you get a list value's tuple form? How do you get a tuple value's list form?\n",
    "\n",
    "By using comprehension"
   ]
  },
  {
   "cell_type": "markdown",
   "metadata": {},
   "source": [
    "## 16\n"
   ]
  },
  {
   "cell_type": "markdown",
   "metadata": {},
   "source": [
    "## 17. How do you distinguish between copy.copy() and copy.deepcopy()?\n",
    "\n",
    "ANs:\n",
    "copy.copy() is shallow copy while copy.deepcopy() is deep copy. Any change made in shallow copy will be reflected in main object while it will not be reflected in original object"
   ]
  },
  {
   "cell_type": "code",
   "execution_count": null,
   "metadata": {},
   "outputs": [],
   "source": []
  }
 ],
 "metadata": {
  "kernelspec": {
   "display_name": "Python 3",
   "language": "python",
   "name": "python3"
  },
  "language_info": {
   "codemirror_mode": {
    "name": "ipython",
    "version": 3
   },
   "file_extension": ".py",
   "mimetype": "text/x-python",
   "name": "python",
   "nbconvert_exporter": "python",
   "pygments_lexer": "ipython3",
   "version": "3.7.4"
  }
 },
 "nbformat": 4,
 "nbformat_minor": 4
}
