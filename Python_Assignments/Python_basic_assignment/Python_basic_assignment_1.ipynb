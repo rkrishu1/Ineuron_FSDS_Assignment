{
 "cells": [
  {
   "cell_type": "markdown",
   "metadata": {},
   "source": [
    "## 1 In the below elements which of them are values or an expression? eg:- values can be\n",
    "integer or string and expressions will be mathematical operators.\n",
    "\n",
    "Ans:\n",
    "Values ='hello',-87.8,6\n",
    "Expression= *,-,/,+"
   ]
  },
  {
   "cell_type": "markdown",
   "metadata": {},
   "source": [
    "## 2 What is the difference between string and variable?\n",
    "\n",
    "Ans:\n",
    "String -- String is something which is placed within  quotes. eg:\"name\",\"age\".\n",
    "   Variable -- variable is something in which we can assign some values for further use."
   ]
  },
  {
   "cell_type": "markdown",
   "metadata": {},
   "source": [
    "## 3   Describe three different data types.\n",
    "Three different data types are:\n",
    "1. int: used to store integer values\n",
    "2. float: used to store floating point number\n",
    "3. string: used to store collection of data , within quotes"
   ]
  },
  {
   "cell_type": "markdown",
   "metadata": {},
   "source": [
    "## 4.  What is an expression made up of? What do all expressions do?\n",
    "Ans:Expression are combination of operator and operands from which we can have some expression"
   ]
  },
  {
   "cell_type": "markdown",
   "metadata": {},
   "source": [
    "## 5. This assignment statements, like spam = 10. What is the difference between an expression and a statement?\n",
    "Ans:Execution of expression will give some result while execution of statement may or may not produce result"
   ]
  },
  {
   "cell_type": "markdown",
   "metadata": {},
   "source": [
    "## 6. After running the following code, what does the variable bacon contain?bacon = 22 bacon + 1\n",
    "Ans:bacon will have 23 "
   ]
  },
  {
   "cell_type": "markdown",
   "metadata": {},
   "source": [
    "## 7 7. What should the values of the following two terms be?  'spam' + 'spamspam' 'spam' * 3\n",
    "Ans:Both will have same value = 'spamspamspam'"
   ]
  },
  {
   "cell_type": "markdown",
   "metadata": {},
   "source": [
    "## 8 . Why is eggs a valid variable name while 100 is invalid?\n",
    "Ans:we can store some value in eggs variable. But 100 itself is integer in which we can't assign any value"
   ]
  },
  {
   "cell_type": "markdown",
   "metadata": {},
   "source": [
    "## 9. What three functions can be used to get the integer, floating-point number, or string version of a value?\n",
    "Ans:   int(),float() and str() are those 3 functions"
   ]
  },
  {
   "cell_type": "markdown",
   "metadata": {},
   "source": [
    "## 10. Why does this expression cause an error? How can you fix it? 'I have eaten' + 99 + 'burritos'\n",
    "Ans : We can concatenate data of string type. to corrrect this , we have to convert 99 to str ('99')"
   ]
  },
  {
   "cell_type": "code",
   "execution_count": null,
   "metadata": {},
   "outputs": [],
   "source": []
  },
  {
   "cell_type": "code",
   "execution_count": null,
   "metadata": {},
   "outputs": [],
   "source": []
  }
 ],
 "metadata": {
  "kernelspec": {
   "display_name": "Python 3",
   "language": "python",
   "name": "python3"
  },
  "language_info": {
   "codemirror_mode": {
    "name": "ipython",
    "version": 3
   },
   "file_extension": ".py",
   "mimetype": "text/x-python",
   "name": "python",
   "nbconvert_exporter": "python",
   "pygments_lexer": "ipython3",
   "version": "3.7.4"
  }
 },
 "nbformat": 4,
 "nbformat_minor": 4
}
