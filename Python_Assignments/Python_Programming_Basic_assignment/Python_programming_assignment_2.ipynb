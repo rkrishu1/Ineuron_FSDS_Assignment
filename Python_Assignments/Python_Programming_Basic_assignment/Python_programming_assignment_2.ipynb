{
 "cells": [
  {
   "cell_type": "markdown",
   "metadata": {},
   "source": [
    "## 1. Write a Python program to convert kilometers to miles?\n",
    "\n",
    "Ans: def k_m(a):<br>\n",
    "    b=a*0.62<br>\n",
    "    return b<br>\n",
    "km_miles=k_m(10)<br>\n",
    "print(km_miles)<br>"
   ]
  },
  {
   "cell_type": "code",
   "execution_count": null,
   "metadata": {},
   "outputs": [],
   "source": []
  },
  {
   "cell_type": "markdown",
   "metadata": {},
   "source": [
    "## 2. Write a Python program to convert Celsius to Fahrenheit?\n",
    "\n",
    "Ans: def celcius_farhen(c): <br>\n",
    "    f=((c * 9/5) + 32) <br>\n",
    "    return f <br>\n",
    "celcius_farhen(10) <br>\n",
    "\n"
   ]
  },
  {
   "cell_type": "code",
   "execution_count": 24,
   "metadata": {},
   "outputs": [
    {
     "data": {
      "text/plain": [
       "50.0"
      ]
     },
     "execution_count": 24,
     "metadata": {},
     "output_type": "execute_result"
    }
   ],
   "source": []
  },
  {
   "cell_type": "markdown",
   "metadata": {},
   "source": [
    "## 3.Write a Python program to display calendar?\n",
    "\n",
    "Ans: import calendar <br>\n",
    "\n",
    "yy = int(input(\"Enter year\"))<br>  \n",
    "mm = int(input(\"Enter month\"))<br>\n",
    "\n",
    "print(calendar.month(yy, mm))<br>\n"
   ]
  },
  {
   "cell_type": "markdown",
   "metadata": {},
   "source": [
    "## 4. Write a Python program to solve quadratic equation?\n",
    "\n",
    "Ans: def quad(a,b,c): <br>\n",
    "    return ((b**2-4*a*c))/2*a <br>\n",
    "quad(10,20,30)<br>"
   ]
  },
  {
   "cell_type": "markdown",
   "metadata": {},
   "source": [
    "## 5.Write a Python program to swap two variables without temp variable?\n",
    "Ans: a=10 <br>\n",
    "b=20 <br>\n",
    "a=a+b <br>\n",
    "b=a-b <br>\n",
    "a=a-b <br>\n",
    "a,b <br>"
   ]
  },
  {
   "cell_type": "code",
   "execution_count": 8,
   "metadata": {},
   "outputs": [
    {
     "data": {
      "text/plain": [
       "(20, 10)"
      ]
     },
     "execution_count": 8,
     "metadata": {},
     "output_type": "execute_result"
    }
   ],
   "source": []
  },
  {
   "cell_type": "code",
   "execution_count": null,
   "metadata": {},
   "outputs": [],
   "source": []
  },
  {
   "cell_type": "code",
   "execution_count": null,
   "metadata": {},
   "outputs": [],
   "source": []
  }
 ],
 "metadata": {
  "kernelspec": {
   "display_name": "Python 3",
   "language": "python",
   "name": "python3"
  },
  "language_info": {
   "codemirror_mode": {
    "name": "ipython",
    "version": 3
   },
   "file_extension": ".py",
   "mimetype": "text/x-python",
   "name": "python",
   "nbconvert_exporter": "python",
   "pygments_lexer": "ipython3",
   "version": "3.7.4"
  }
 },
 "nbformat": 4,
 "nbformat_minor": 4
}
