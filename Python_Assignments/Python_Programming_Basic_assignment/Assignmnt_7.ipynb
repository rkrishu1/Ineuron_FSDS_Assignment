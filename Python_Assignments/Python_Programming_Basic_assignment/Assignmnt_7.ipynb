{
 "cells": [
  {
   "cell_type": "markdown",
   "metadata": {},
   "source": [
    "## 1. Write a Python Program to find sum of array?\n",
    "\n",
    "Ans: def sum_array(l):<br>\n",
    "    sum=0 <br>\n",
    "    for i in l:<br>\n",
    "        sum=sum+i <br>\n",
    "    print(sum) <br>\n",
    "sum_array([10,10,20,30,40]) <br>"
   ]
  },
  {
   "cell_type": "markdown",
   "metadata": {},
   "source": [
    "## 2. Write a Python Program to find largest element in an array?\n",
    "\n",
    "Ans: def lar(m): <br>\n",
    "    return max(m) <br>\n",
    "lar([10,20,30,99,32445]) <br>"
   ]
  },
  {
   "cell_type": "code",
   "execution_count": 207,
   "metadata": {},
   "outputs": [
    {
     "name": "stdout",
     "output_type": "stream",
     "text": [
      "45\n"
     ]
    }
   ],
   "source": [
    "l=[1,2,3,45]\n",
    "max=l[0]\n",
    "for i in l:\n",
    "    if i>max:\n",
    "        max=i\n",
    "print(max)"
   ]
  },
  {
   "cell_type": "code",
   "execution_count": null,
   "metadata": {},
   "outputs": [],
   "source": []
  },
  {
   "cell_type": "markdown",
   "metadata": {},
   "source": [
    "## 3. Write a Python Program for array rotation?\n",
    "\n",
    "Ans : def rotate(l): <br> \n",
    "    print(l[::-1]) <br>\n",
    "rotate([1,2,3,4]) <br>"
   ]
  },
  {
   "cell_type": "markdown",
   "metadata": {},
   "source": [
    "## 4. Write a Python Program to Split the array and add the first part to the end?\n",
    "\n",
    "Ans: import numpy as np <br>\n",
    "def split(l): <br>\n",
    "    a=np.array_split(l,2) <br>\n",
    "    a=list(a) <br>\n",
    "    print(a) <br>\n",
    "    a.append(a[0]) <br>\n",
    "    a.remove(a[0]) <br>\n",
    "    print(a) <br>\n",
    "split([1,2,3,4,5]) <br>"
   ]
  },
  {
   "cell_type": "markdown",
   "metadata": {},
   "source": [
    "## 5. Write a Python Program to check if given array is Monotonic?\n"
   ]
  },
  {
   "cell_type": "code",
   "execution_count": 159,
   "metadata": {},
   "outputs": [
    {
     "name": "stdout",
     "output_type": "stream",
     "text": [
      "True\n"
     ]
    }
   ],
   "source": [
    "def isMonotonic(A):\n",
    "  \n",
    "    return (all(A[i] <= A[i + 1] for i in range(len(A) - 1)) or\n",
    "            all(A[i] >= A[i + 1] for i in range(len(A) - 1)))\n",
    "  \n",
    "A = [6, 5, 4, 4]\n",
    "  \n",
    "print(isMonotonic(A))"
   ]
  },
  {
   "cell_type": "code",
   "execution_count": null,
   "metadata": {},
   "outputs": [],
   "source": []
  },
  {
   "cell_type": "code",
   "execution_count": null,
   "metadata": {},
   "outputs": [],
   "source": []
  },
  {
   "cell_type": "code",
   "execution_count": null,
   "metadata": {},
   "outputs": [],
   "source": []
  }
 ],
 "metadata": {
  "kernelspec": {
   "display_name": "Python 3",
   "language": "python",
   "name": "python3"
  },
  "language_info": {
   "codemirror_mode": {
    "name": "ipython",
    "version": 3
   },
   "file_extension": ".py",
   "mimetype": "text/x-python",
   "name": "python",
   "nbconvert_exporter": "python",
   "pygments_lexer": "ipython3",
   "version": "3.7.4"
  }
 },
 "nbformat": 4,
 "nbformat_minor": 4
}
