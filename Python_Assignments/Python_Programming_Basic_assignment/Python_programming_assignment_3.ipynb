{
 "cells": [
  {
   "cell_type": "markdown",
   "metadata": {},
   "source": [
    "## 1.Write a Python Program to Check if a Number is Positive, Negative or Zero?\n",
    "\n",
    "Ans : def check(a): <br>\n",
    "    if a==0: <br>\n",
    "        print('zero') <br>\n",
    "    elif(a<0): <br>\n",
    "        print('negative') <br>\n",
    "     else: <br>\n",
    "        print('positive') <br>\n",
    "check(-9) <br>"
   ]
  },
  {
   "cell_type": "markdown",
   "metadata": {},
   "source": [
    "## 2. Write a Python Program to Check if a Number is Odd or Even?\n",
    "Ans: def e_o(a): <br>\n",
    "    if a%2==0: <br>\n",
    "        print('even') <br>\n",
    "    else: <br>\n",
    "        print('odd') <br>\n",
    "        \n",
    "e_o(3) <br>"
   ]
  },
  {
   "cell_type": "markdown",
   "metadata": {},
   "source": [
    "## 3. Write a Python Program to Check Leap Year?\n"
   ]
  },
  {
   "cell_type": "code",
   "execution_count": 23,
   "metadata": {},
   "outputs": [
    {
     "name": "stdout",
     "output_type": "stream",
     "text": [
      "leap year\n"
     ]
    }
   ],
   "source": [
    "def leap(a):\n",
    "    if a%4==0 and a%400==0 or a%100!=0:\n",
    "        print('leap year')\n",
    "    else:\n",
    "        print('not a leap year')\n",
    "leap(1996)"
   ]
  },
  {
   "cell_type": "markdown",
   "metadata": {},
   "source": [
    "## 4. Write a Python Program to Check Prime Number?\n",
    "\n",
    "ANs : def Prime(a):  <br>\n",
    "    if a > 1:   <br>\n",
    "        for j in range(2, int(a/2) + 1): <br>   \n",
    "            if (a % j) == 0:   <br>\n",
    "                print(a, \"is not a prime number\") <br>  \n",
    "                break   <br>\n",
    "                else:  <br>\n",
    "            print(a, \"is a prime number\") <br>  \n",
    "        else:   <br>\n",
    "        print(a, \"is not a prime number\")  <br> \n",
    "\n",
    "a = int(input(\"Enter an input number:\"))  <br>\n",
    "\n",
    "Prime(a)  <br>"
   ]
  },
  {
   "cell_type": "code",
   "execution_count": null,
   "metadata": {},
   "outputs": [],
   "source": []
  },
  {
   "cell_type": "code",
   "execution_count": null,
   "metadata": {},
   "outputs": [],
   "source": []
  },
  {
   "cell_type": "code",
   "execution_count": null,
   "metadata": {},
   "outputs": [],
   "source": []
  }
 ],
 "metadata": {
  "kernelspec": {
   "display_name": "Python 3",
   "language": "python",
   "name": "python3"
  },
  "language_info": {
   "codemirror_mode": {
    "name": "ipython",
    "version": 3
   },
   "file_extension": ".py",
   "mimetype": "text/x-python",
   "name": "python",
   "nbconvert_exporter": "python",
   "pygments_lexer": "ipython3",
   "version": "3.7.4"
  }
 },
 "nbformat": 4,
 "nbformat_minor": 4
}
